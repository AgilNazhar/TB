{
  "cells": [
    {
      "cell_type": "code",
      "execution_count": 4,
      "metadata": {
        "colab": {
          "base_uri": "https://localhost:8080/",
          "height": 223
        },
        "id": "56a2bdduzkiL",
        "outputId": "7a03e9ec-d17c-49a7-9110-0213b7a5c9c4"
      },
      "outputs": [
        {
          "name": "stdout",
          "output_type": "stream",
          "text": [
            "Sample Data:\n"
          ]
        },
        {
          "data": {
            "text/html": [
              "\n",
              "  <div id=\"df-a887f53f-68d0-4bc9-aab9-b456320b57c1\">\n",
              "    <div class=\"colab-df-container\">\n",
              "      <div>\n",
              "<style scoped>\n",
              "    .dataframe tbody tr th:only-of-type {\n",
              "        vertical-align: middle;\n",
              "    }\n",
              "\n",
              "    .dataframe tbody tr th {\n",
              "        vertical-align: top;\n",
              "    }\n",
              "\n",
              "    .dataframe thead th {\n",
              "        text-align: right;\n",
              "    }\n",
              "</style>\n",
              "<table border=\"1\" class=\"dataframe\">\n",
              "  <thead>\n",
              "    <tr style=\"text-align: right;\">\n",
              "      <th></th>\n",
              "      <th>kode_provinsi</th>\n",
              "      <th>nama_provinsi</th>\n",
              "      <th>kode_kabupaten_kota</th>\n",
              "      <th>nama_kabupaten_kota</th>\n",
              "      <th>jenis_wisatawan</th>\n",
              "      <th>jumlah_pengunjung</th>\n",
              "      <th>satuan</th>\n",
              "      <th>tahun</th>\n",
              "    </tr>\n",
              "  </thead>\n",
              "  <tbody>\n",
              "    <tr>\n",
              "      <th>0</th>\n",
              "      <td>32</td>\n",
              "      <td>JAWA BARAT</td>\n",
              "      <td>3201</td>\n",
              "      <td>KABUPATEN BOGOR</td>\n",
              "      <td>MANCANEGARA</td>\n",
              "      <td>54927</td>\n",
              "      <td>ORANG</td>\n",
              "      <td>2014</td>\n",
              "    </tr>\n",
              "    <tr>\n",
              "      <th>1</th>\n",
              "      <td>32</td>\n",
              "      <td>JAWA BARAT</td>\n",
              "      <td>3201</td>\n",
              "      <td>KABUPATEN BOGOR</td>\n",
              "      <td>NUSANTARA</td>\n",
              "      <td>4075198</td>\n",
              "      <td>ORANG</td>\n",
              "      <td>2014</td>\n",
              "    </tr>\n",
              "    <tr>\n",
              "      <th>2</th>\n",
              "      <td>32</td>\n",
              "      <td>JAWA BARAT</td>\n",
              "      <td>3202</td>\n",
              "      <td>KABUPATEN SUKABUMI</td>\n",
              "      <td>MANCANEGARA</td>\n",
              "      <td>49985</td>\n",
              "      <td>ORANG</td>\n",
              "      <td>2014</td>\n",
              "    </tr>\n",
              "    <tr>\n",
              "      <th>3</th>\n",
              "      <td>32</td>\n",
              "      <td>JAWA BARAT</td>\n",
              "      <td>3202</td>\n",
              "      <td>KABUPATEN SUKABUMI</td>\n",
              "      <td>NUSANTARA</td>\n",
              "      <td>2031979</td>\n",
              "      <td>ORANG</td>\n",
              "      <td>2014</td>\n",
              "    </tr>\n",
              "    <tr>\n",
              "      <th>4</th>\n",
              "      <td>32</td>\n",
              "      <td>JAWA BARAT</td>\n",
              "      <td>3203</td>\n",
              "      <td>KABUPATEN CIANJUR</td>\n",
              "      <td>MANCANEGARA</td>\n",
              "      <td>7824</td>\n",
              "      <td>ORANG</td>\n",
              "      <td>2014</td>\n",
              "    </tr>\n",
              "  </tbody>\n",
              "</table>\n",
              "</div>\n",
              "      <button class=\"colab-df-convert\" onclick=\"convertToInteractive('df-a887f53f-68d0-4bc9-aab9-b456320b57c1')\"\n",
              "              title=\"Convert this dataframe to an interactive table.\"\n",
              "              style=\"display:none;\">\n",
              "        \n",
              "  <svg xmlns=\"http://www.w3.org/2000/svg\" height=\"24px\"viewBox=\"0 0 24 24\"\n",
              "       width=\"24px\">\n",
              "    <path d=\"M0 0h24v24H0V0z\" fill=\"none\"/>\n",
              "    <path d=\"M18.56 5.44l.94 2.06.94-2.06 2.06-.94-2.06-.94-.94-2.06-.94 2.06-2.06.94zm-11 1L8.5 8.5l.94-2.06 2.06-.94-2.06-.94L8.5 2.5l-.94 2.06-2.06.94zm10 10l.94 2.06.94-2.06 2.06-.94-2.06-.94-.94-2.06-.94 2.06-2.06.94z\"/><path d=\"M17.41 7.96l-1.37-1.37c-.4-.4-.92-.59-1.43-.59-.52 0-1.04.2-1.43.59L10.3 9.45l-7.72 7.72c-.78.78-.78 2.05 0 2.83L4 21.41c.39.39.9.59 1.41.59.51 0 1.02-.2 1.41-.59l7.78-7.78 2.81-2.81c.8-.78.8-2.07 0-2.86zM5.41 20L4 18.59l7.72-7.72 1.47 1.35L5.41 20z\"/>\n",
              "  </svg>\n",
              "      </button>\n",
              "      \n",
              "  <style>\n",
              "    .colab-df-container {\n",
              "      display:flex;\n",
              "      flex-wrap:wrap;\n",
              "      gap: 12px;\n",
              "    }\n",
              "\n",
              "    .colab-df-convert {\n",
              "      background-color: #E8F0FE;\n",
              "      border: none;\n",
              "      border-radius: 50%;\n",
              "      cursor: pointer;\n",
              "      display: none;\n",
              "      fill: #1967D2;\n",
              "      height: 32px;\n",
              "      padding: 0 0 0 0;\n",
              "      width: 32px;\n",
              "    }\n",
              "\n",
              "    .colab-df-convert:hover {\n",
              "      background-color: #E2EBFA;\n",
              "      box-shadow: 0px 1px 2px rgba(60, 64, 67, 0.3), 0px 1px 3px 1px rgba(60, 64, 67, 0.15);\n",
              "      fill: #174EA6;\n",
              "    }\n",
              "\n",
              "    [theme=dark] .colab-df-convert {\n",
              "      background-color: #3B4455;\n",
              "      fill: #D2E3FC;\n",
              "    }\n",
              "\n",
              "    [theme=dark] .colab-df-convert:hover {\n",
              "      background-color: #434B5C;\n",
              "      box-shadow: 0px 1px 3px 1px rgba(0, 0, 0, 0.15);\n",
              "      filter: drop-shadow(0px 1px 2px rgba(0, 0, 0, 0.3));\n",
              "      fill: #FFFFFF;\n",
              "    }\n",
              "  </style>\n",
              "\n",
              "      <script>\n",
              "        const buttonEl =\n",
              "          document.querySelector('#df-a887f53f-68d0-4bc9-aab9-b456320b57c1 button.colab-df-convert');\n",
              "        buttonEl.style.display =\n",
              "          google.colab.kernel.accessAllowed ? 'block' : 'none';\n",
              "\n",
              "        async function convertToInteractive(key) {\n",
              "          const element = document.querySelector('#df-a887f53f-68d0-4bc9-aab9-b456320b57c1');\n",
              "          const dataTable =\n",
              "            await google.colab.kernel.invokeFunction('convertToInteractive',\n",
              "                                                     [key], {});\n",
              "          if (!dataTable) return;\n",
              "\n",
              "          const docLinkHtml = 'Like what you see? Visit the ' +\n",
              "            '<a target=\"_blank\" href=https://colab.research.google.com/notebooks/data_table.ipynb>data table notebook</a>'\n",
              "            + ' to learn more about interactive tables.';\n",
              "          element.innerHTML = '';\n",
              "          dataTable['output_type'] = 'display_data';\n",
              "          await google.colab.output.renderOutput(dataTable, element);\n",
              "          const docLink = document.createElement('div');\n",
              "          docLink.innerHTML = docLinkHtml;\n",
              "          element.appendChild(docLink);\n",
              "        }\n",
              "      </script>\n",
              "    </div>\n",
              "  </div>\n",
              "  "
            ],
            "text/plain": [
              "   kode_provinsi nama_provinsi  kode_kabupaten_kota nama_kabupaten_kota  \\\n",
              "0             32    JAWA BARAT                 3201     KABUPATEN BOGOR   \n",
              "1             32    JAWA BARAT                 3201     KABUPATEN BOGOR   \n",
              "2             32    JAWA BARAT                 3202  KABUPATEN SUKABUMI   \n",
              "3             32    JAWA BARAT                 3202  KABUPATEN SUKABUMI   \n",
              "4             32    JAWA BARAT                 3203   KABUPATEN CIANJUR   \n",
              "\n",
              "  jenis_wisatawan  jumlah_pengunjung satuan  tahun  \n",
              "0     MANCANEGARA              54927  ORANG   2014  \n",
              "1       NUSANTARA            4075198  ORANG   2014  \n",
              "2     MANCANEGARA              49985  ORANG   2014  \n",
              "3       NUSANTARA            2031979  ORANG   2014  \n",
              "4     MANCANEGARA               7824  ORANG   2014  "
            ]
          },
          "execution_count": 4,
          "metadata": {},
          "output_type": "execute_result"
        }
      ],
      "source": [
        "import pandas as pd\n",
        "import numpy as np\n",
        "import matplotlib.pyplot as plt\n",
        "from sklearn import tree\n",
        "from sklearn.tree import DecisionTreeClassifier\n",
        "from sklearn.cluster import KMeans\n",
        "from sklearn.model_selection import train_test_split\n",
        "from sklearn.metrics import accuracy_score, davies_bouldin_score\n",
        "\n",
        "dataset = pd.read_csv('/content/data_wisata.csv')\n",
        "dataset.drop('id', inplace=True,axis=1)\n",
        "\n",
        "print('Sample Data:')\n",
        "dataset.head()"
      ]
    },
    {
      "cell_type": "code",
      "execution_count": 9,
      "metadata": {
        "id": "JaYK9-263ouU"
      },
      "outputs": [],
      "source": [
        "from sklearn.preprocessing import LabelEncoder"
      ]
    },
    {
      "cell_type": "code",
      "execution_count": 10,
      "metadata": {
        "id": "Nd3Nl0Ki3x4A"
      },
      "outputs": [],
      "source": [
        "enc = LabelEncoder()"
      ]
    },
    {
      "cell_type": "code",
      "execution_count": 14,
      "metadata": {
        "id": "6ehjgiv74n5y"
      },
      "outputs": [],
      "source": [
        "dataset['nama_provinsi'] = enc.fit_transform(dataset['nama_provinsi'].values)\n",
        "dataset['nama_kabupaten_kota'] = enc.fit_transform(dataset['nama_kabupaten_kota'].values)\n",
        "dataset['jenis_wisatawan'] = enc.fit_transform(dataset['jenis_wisatawan'].values)\n",
        "dataset['satuan'] = enc.fit_transform(dataset['satuan'].values)"
      ]
    },
    {
      "cell_type": "code",
      "execution_count": 15,
      "metadata": {
        "colab": {
          "base_uri": "https://localhost:8080/",
          "height": 206
        },
        "id": "Zqi-PZLn58RY",
        "outputId": "0949cc19-aaa3-46db-b3f7-44065dbf92eb"
      },
      "outputs": [
        {
          "data": {
            "text/html": [
              "\n",
              "  <div id=\"df-7efa837d-24bd-4a33-ba56-243c78427379\">\n",
              "    <div class=\"colab-df-container\">\n",
              "      <div>\n",
              "<style scoped>\n",
              "    .dataframe tbody tr th:only-of-type {\n",
              "        vertical-align: middle;\n",
              "    }\n",
              "\n",
              "    .dataframe tbody tr th {\n",
              "        vertical-align: top;\n",
              "    }\n",
              "\n",
              "    .dataframe thead th {\n",
              "        text-align: right;\n",
              "    }\n",
              "</style>\n",
              "<table border=\"1\" class=\"dataframe\">\n",
              "  <thead>\n",
              "    <tr style=\"text-align: right;\">\n",
              "      <th></th>\n",
              "      <th>kode_provinsi</th>\n",
              "      <th>nama_provinsi</th>\n",
              "      <th>kode_kabupaten_kota</th>\n",
              "      <th>nama_kabupaten_kota</th>\n",
              "      <th>jenis_wisatawan</th>\n",
              "      <th>jumlah_pengunjung</th>\n",
              "      <th>satuan</th>\n",
              "      <th>tahun</th>\n",
              "    </tr>\n",
              "  </thead>\n",
              "  <tbody>\n",
              "    <tr>\n",
              "      <th>0</th>\n",
              "      <td>32</td>\n",
              "      <td>0</td>\n",
              "      <td>3201</td>\n",
              "      <td>3</td>\n",
              "      <td>0</td>\n",
              "      <td>54927</td>\n",
              "      <td>0</td>\n",
              "      <td>2014</td>\n",
              "    </tr>\n",
              "    <tr>\n",
              "      <th>1</th>\n",
              "      <td>32</td>\n",
              "      <td>0</td>\n",
              "      <td>3201</td>\n",
              "      <td>3</td>\n",
              "      <td>1</td>\n",
              "      <td>4075198</td>\n",
              "      <td>0</td>\n",
              "      <td>2014</td>\n",
              "    </tr>\n",
              "    <tr>\n",
              "      <th>2</th>\n",
              "      <td>32</td>\n",
              "      <td>0</td>\n",
              "      <td>3202</td>\n",
              "      <td>15</td>\n",
              "      <td>0</td>\n",
              "      <td>49985</td>\n",
              "      <td>0</td>\n",
              "      <td>2014</td>\n",
              "    </tr>\n",
              "    <tr>\n",
              "      <th>3</th>\n",
              "      <td>32</td>\n",
              "      <td>0</td>\n",
              "      <td>3202</td>\n",
              "      <td>15</td>\n",
              "      <td>1</td>\n",
              "      <td>2031979</td>\n",
              "      <td>0</td>\n",
              "      <td>2014</td>\n",
              "    </tr>\n",
              "    <tr>\n",
              "      <th>4</th>\n",
              "      <td>32</td>\n",
              "      <td>0</td>\n",
              "      <td>3203</td>\n",
              "      <td>5</td>\n",
              "      <td>0</td>\n",
              "      <td>7824</td>\n",
              "      <td>0</td>\n",
              "      <td>2014</td>\n",
              "    </tr>\n",
              "  </tbody>\n",
              "</table>\n",
              "</div>\n",
              "      <button class=\"colab-df-convert\" onclick=\"convertToInteractive('df-7efa837d-24bd-4a33-ba56-243c78427379')\"\n",
              "              title=\"Convert this dataframe to an interactive table.\"\n",
              "              style=\"display:none;\">\n",
              "        \n",
              "  <svg xmlns=\"http://www.w3.org/2000/svg\" height=\"24px\"viewBox=\"0 0 24 24\"\n",
              "       width=\"24px\">\n",
              "    <path d=\"M0 0h24v24H0V0z\" fill=\"none\"/>\n",
              "    <path d=\"M18.56 5.44l.94 2.06.94-2.06 2.06-.94-2.06-.94-.94-2.06-.94 2.06-2.06.94zm-11 1L8.5 8.5l.94-2.06 2.06-.94-2.06-.94L8.5 2.5l-.94 2.06-2.06.94zm10 10l.94 2.06.94-2.06 2.06-.94-2.06-.94-.94-2.06-.94 2.06-2.06.94z\"/><path d=\"M17.41 7.96l-1.37-1.37c-.4-.4-.92-.59-1.43-.59-.52 0-1.04.2-1.43.59L10.3 9.45l-7.72 7.72c-.78.78-.78 2.05 0 2.83L4 21.41c.39.39.9.59 1.41.59.51 0 1.02-.2 1.41-.59l7.78-7.78 2.81-2.81c.8-.78.8-2.07 0-2.86zM5.41 20L4 18.59l7.72-7.72 1.47 1.35L5.41 20z\"/>\n",
              "  </svg>\n",
              "      </button>\n",
              "      \n",
              "  <style>\n",
              "    .colab-df-container {\n",
              "      display:flex;\n",
              "      flex-wrap:wrap;\n",
              "      gap: 12px;\n",
              "    }\n",
              "\n",
              "    .colab-df-convert {\n",
              "      background-color: #E8F0FE;\n",
              "      border: none;\n",
              "      border-radius: 50%;\n",
              "      cursor: pointer;\n",
              "      display: none;\n",
              "      fill: #1967D2;\n",
              "      height: 32px;\n",
              "      padding: 0 0 0 0;\n",
              "      width: 32px;\n",
              "    }\n",
              "\n",
              "    .colab-df-convert:hover {\n",
              "      background-color: #E2EBFA;\n",
              "      box-shadow: 0px 1px 2px rgba(60, 64, 67, 0.3), 0px 1px 3px 1px rgba(60, 64, 67, 0.15);\n",
              "      fill: #174EA6;\n",
              "    }\n",
              "\n",
              "    [theme=dark] .colab-df-convert {\n",
              "      background-color: #3B4455;\n",
              "      fill: #D2E3FC;\n",
              "    }\n",
              "\n",
              "    [theme=dark] .colab-df-convert:hover {\n",
              "      background-color: #434B5C;\n",
              "      box-shadow: 0px 1px 3px 1px rgba(0, 0, 0, 0.15);\n",
              "      filter: drop-shadow(0px 1px 2px rgba(0, 0, 0, 0.3));\n",
              "      fill: #FFFFFF;\n",
              "    }\n",
              "  </style>\n",
              "\n",
              "      <script>\n",
              "        const buttonEl =\n",
              "          document.querySelector('#df-7efa837d-24bd-4a33-ba56-243c78427379 button.colab-df-convert');\n",
              "        buttonEl.style.display =\n",
              "          google.colab.kernel.accessAllowed ? 'block' : 'none';\n",
              "\n",
              "        async function convertToInteractive(key) {\n",
              "          const element = document.querySelector('#df-7efa837d-24bd-4a33-ba56-243c78427379');\n",
              "          const dataTable =\n",
              "            await google.colab.kernel.invokeFunction('convertToInteractive',\n",
              "                                                     [key], {});\n",
              "          if (!dataTable) return;\n",
              "\n",
              "          const docLinkHtml = 'Like what you see? Visit the ' +\n",
              "            '<a target=\"_blank\" href=https://colab.research.google.com/notebooks/data_table.ipynb>data table notebook</a>'\n",
              "            + ' to learn more about interactive tables.';\n",
              "          element.innerHTML = '';\n",
              "          dataTable['output_type'] = 'display_data';\n",
              "          await google.colab.output.renderOutput(dataTable, element);\n",
              "          const docLink = document.createElement('div');\n",
              "          docLink.innerHTML = docLinkHtml;\n",
              "          element.appendChild(docLink);\n",
              "        }\n",
              "      </script>\n",
              "    </div>\n",
              "  </div>\n",
              "  "
            ],
            "text/plain": [
              "   kode_provinsi  nama_provinsi  kode_kabupaten_kota  nama_kabupaten_kota  \\\n",
              "0             32              0                 3201                    3   \n",
              "1             32              0                 3201                    3   \n",
              "2             32              0                 3202                   15   \n",
              "3             32              0                 3202                   15   \n",
              "4             32              0                 3203                    5   \n",
              "\n",
              "   jenis_wisatawan  jumlah_pengunjung  satuan  tahun  \n",
              "0                0              54927       0   2014  \n",
              "1                1            4075198       0   2014  \n",
              "2                0              49985       0   2014  \n",
              "3                1            2031979       0   2014  \n",
              "4                0               7824       0   2014  "
            ]
          },
          "execution_count": 15,
          "metadata": {},
          "output_type": "execute_result"
        }
      ],
      "source": [
        "dataset.head()"
      ]
    },
    {
      "cell_type": "code",
      "execution_count": 5,
      "metadata": {
        "colab": {
          "base_uri": "https://localhost:8080/"
        },
        "id": "A-eadFve2ISh",
        "outputId": "b6541307-72a1-49c2-811c-684fcc10db4d"
      },
      "outputs": [
        {
          "data": {
            "text/plain": [
              "kode_provinsi          0\n",
              "nama_provinsi          0\n",
              "kode_kabupaten_kota    0\n",
              "nama_kabupaten_kota    0\n",
              "jenis_wisatawan        0\n",
              "jumlah_pengunjung      0\n",
              "satuan                 0\n",
              "tahun                  0\n",
              "dtype: int64"
            ]
          },
          "execution_count": 5,
          "metadata": {},
          "output_type": "execute_result"
        }
      ],
      "source": [
        "dataset.isna().sum()"
      ]
    },
    {
      "cell_type": "code",
      "execution_count": 6,
      "metadata": {
        "colab": {
          "base_uri": "https://localhost:8080/"
        },
        "id": "o7Xlgxfg2Ldh",
        "outputId": "2ada1594-8be3-4424-d33e-a21631ad0834"
      },
      "outputs": [
        {
          "data": {
            "text/plain": [
              "kode_provinsi           int64\n",
              "nama_provinsi          object\n",
              "kode_kabupaten_kota     int64\n",
              "nama_kabupaten_kota    object\n",
              "jenis_wisatawan        object\n",
              "jumlah_pengunjung       int64\n",
              "satuan                 object\n",
              "tahun                   int64\n",
              "dtype: object"
            ]
          },
          "execution_count": 6,
          "metadata": {},
          "output_type": "execute_result"
        }
      ],
      "source": [
        "dataset.dtypes"
      ]
    },
    {
      "cell_type": "code",
      "execution_count": 27,
      "metadata": {
        "id": "0i_wBDvS2QBP"
      },
      "outputs": [],
      "source": [
        "x = dataset.iloc[:, :4]\n",
        "y = dataset['nama_kabupaten_kota']\n",
        "\n",
        "xTrain, xTest, yTrain, yTest = train_test_split(x, y, test_size= 0.3, random_state=0)"
      ]
    },
    {
      "cell_type": "code",
      "execution_count": 28,
      "metadata": {
        "colab": {
          "base_uri": "https://localhost:8080/",
          "height": 74
        },
        "id": "dhj8i33N6QNp",
        "outputId": "c23d9c53-bc24-4152-d80b-a8f291cd7f97"
      },
      "outputs": [
        {
          "data": {
            "text/html": [
              "<style>#sk-container-id-2 {color: black;background-color: white;}#sk-container-id-2 pre{padding: 0;}#sk-container-id-2 div.sk-toggleable {background-color: white;}#sk-container-id-2 label.sk-toggleable__label {cursor: pointer;display: block;width: 100%;margin-bottom: 0;padding: 0.3em;box-sizing: border-box;text-align: center;}#sk-container-id-2 label.sk-toggleable__label-arrow:before {content: \"▸\";float: left;margin-right: 0.25em;color: #696969;}#sk-container-id-2 label.sk-toggleable__label-arrow:hover:before {color: black;}#sk-container-id-2 div.sk-estimator:hover label.sk-toggleable__label-arrow:before {color: black;}#sk-container-id-2 div.sk-toggleable__content {max-height: 0;max-width: 0;overflow: hidden;text-align: left;background-color: #f0f8ff;}#sk-container-id-2 div.sk-toggleable__content pre {margin: 0.2em;color: black;border-radius: 0.25em;background-color: #f0f8ff;}#sk-container-id-2 input.sk-toggleable__control:checked~div.sk-toggleable__content {max-height: 200px;max-width: 100%;overflow: auto;}#sk-container-id-2 input.sk-toggleable__control:checked~label.sk-toggleable__label-arrow:before {content: \"▾\";}#sk-container-id-2 div.sk-estimator input.sk-toggleable__control:checked~label.sk-toggleable__label {background-color: #d4ebff;}#sk-container-id-2 div.sk-label input.sk-toggleable__control:checked~label.sk-toggleable__label {background-color: #d4ebff;}#sk-container-id-2 input.sk-hidden--visually {border: 0;clip: rect(1px 1px 1px 1px);clip: rect(1px, 1px, 1px, 1px);height: 1px;margin: -1px;overflow: hidden;padding: 0;position: absolute;width: 1px;}#sk-container-id-2 div.sk-estimator {font-family: monospace;background-color: #f0f8ff;border: 1px dotted black;border-radius: 0.25em;box-sizing: border-box;margin-bottom: 0.5em;}#sk-container-id-2 div.sk-estimator:hover {background-color: #d4ebff;}#sk-container-id-2 div.sk-parallel-item::after {content: \"\";width: 100%;border-bottom: 1px solid gray;flex-grow: 1;}#sk-container-id-2 div.sk-label:hover label.sk-toggleable__label {background-color: #d4ebff;}#sk-container-id-2 div.sk-serial::before {content: \"\";position: absolute;border-left: 1px solid gray;box-sizing: border-box;top: 0;bottom: 0;left: 50%;z-index: 0;}#sk-container-id-2 div.sk-serial {display: flex;flex-direction: column;align-items: center;background-color: white;padding-right: 0.2em;padding-left: 0.2em;position: relative;}#sk-container-id-2 div.sk-item {position: relative;z-index: 1;}#sk-container-id-2 div.sk-parallel {display: flex;align-items: stretch;justify-content: center;background-color: white;position: relative;}#sk-container-id-2 div.sk-item::before, #sk-container-id-2 div.sk-parallel-item::before {content: \"\";position: absolute;border-left: 1px solid gray;box-sizing: border-box;top: 0;bottom: 0;left: 50%;z-index: -1;}#sk-container-id-2 div.sk-parallel-item {display: flex;flex-direction: column;z-index: 1;position: relative;background-color: white;}#sk-container-id-2 div.sk-parallel-item:first-child::after {align-self: flex-end;width: 50%;}#sk-container-id-2 div.sk-parallel-item:last-child::after {align-self: flex-start;width: 50%;}#sk-container-id-2 div.sk-parallel-item:only-child::after {width: 0;}#sk-container-id-2 div.sk-dashed-wrapped {border: 1px dashed gray;margin: 0 0.4em 0.5em 0.4em;box-sizing: border-box;padding-bottom: 0.4em;background-color: white;}#sk-container-id-2 div.sk-label label {font-family: monospace;font-weight: bold;display: inline-block;line-height: 1.2em;}#sk-container-id-2 div.sk-label-container {text-align: center;}#sk-container-id-2 div.sk-container {/* jupyter's `normalize.less` sets `[hidden] { display: none; }` but bootstrap.min.css set `[hidden] { display: none !important; }` so we also need the `!important` here to be able to override the default hidden behavior on the sphinx rendered scikit-learn.org. See: https://github.com/scikit-learn/scikit-learn/issues/21755 */display: inline-block !important;position: relative;}#sk-container-id-2 div.sk-text-repr-fallback {display: none;}</style><div id=\"sk-container-id-2\" class=\"sk-top-container\"><div class=\"sk-text-repr-fallback\"><pre>DecisionTreeClassifier()</pre><b>In a Jupyter environment, please rerun this cell to show the HTML representation or trust the notebook. <br />On GitHub, the HTML representation is unable to render, please try loading this page with nbviewer.org.</b></div><div class=\"sk-container\" hidden><div class=\"sk-item\"><div class=\"sk-estimator sk-toggleable\"><input class=\"sk-toggleable__control sk-hidden--visually\" id=\"sk-estimator-id-2\" type=\"checkbox\" checked><label for=\"sk-estimator-id-2\" class=\"sk-toggleable__label sk-toggleable__label-arrow\">DecisionTreeClassifier</label><div class=\"sk-toggleable__content\"><pre>DecisionTreeClassifier()</pre></div></div></div></div></div>"
            ],
            "text/plain": [
              "DecisionTreeClassifier()"
            ]
          },
          "execution_count": 28,
          "metadata": {},
          "output_type": "execute_result"
        }
      ],
      "source": [
        "dt = DecisionTreeClassifier()\n",
        "dt.fit(xTrain, yTrain)"
      ]
    },
    {
      "cell_type": "code",
      "execution_count": 29,
      "metadata": {
        "colab": {
          "base_uri": "https://localhost:8080/"
        },
        "id": "li9mjRiv6ayW",
        "outputId": "16d25dce-f696-4c57-d4e0-231800872522"
      },
      "outputs": [
        {
          "name": "stdout",
          "output_type": "stream",
          "text": [
            "Decision Tree Accuracy : 1.000\n"
          ]
        }
      ],
      "source": [
        "print('Decision Tree Accuracy : {:.3f}'.format(accuracy_score(yTest, dt.predict(xTest))))"
      ]
    },
    {
      "cell_type": "code",
      "execution_count": 30,
      "metadata": {
        "colab": {
          "base_uri": "https://localhost:8080/",
          "height": 1000
        },
        "id": "Kw-HOaYb6gcF",
        "outputId": "2ba02c51-014b-4fbd-9f0c-4c4496c45411"
      },
      "outputs": [
        {
          "data": {
            "text/plain": [
              "[Text(0.6802455357142857, 0.9583333333333334, 'x[3] <= 25.5\\ngini = 0.962\\nsamples = 282\\nvalue = [10, 11, 10, 8, 9, 9, 11, 10, 10, 12, 9, 12, 9\\n10, 13, 11, 10, 11, 11, 9, 9, 11, 9, 13, 13, 9\\n13]'),\n",
              " Text(0.64453125, 0.875, 'x[3] <= 22.5\\ngini = 0.961\\nsamples = 269\\nvalue = [10, 11, 10, 8, 9, 9, 11, 10, 10, 12, 9, 12, 9\\n10, 13, 11, 10, 11, 11, 9, 9, 11, 9, 13, 13, 9\\n0]'),\n",
              " Text(0.46763392857142855, 0.7916666666666666, 'x[3] <= 1.5\\ngini = 0.956\\nsamples = 234\\nvalue = [10, 11, 10, 8, 9, 9, 11, 10, 10, 12, 9, 12, 9\\n10, 13, 11, 10, 11, 11, 9, 9, 11, 9, 0, 0, 0\\n0]'),\n",
              " Text(0.36160714285714285, 0.7083333333333334, 'x[3] <= 0.5\\ngini = 0.499\\nsamples = 21\\nvalue = [10, 11, 0, 0, 0, 0, 0, 0, 0, 0, 0, 0, 0, 0\\n0, 0, 0, 0, 0, 0, 0, 0, 0, 0, 0, 0, 0]'),\n",
              " Text(0.32589285714285715, 0.625, 'gini = 0.0\\nsamples = 10\\nvalue = [10, 0, 0, 0, 0, 0, 0, 0, 0, 0, 0, 0, 0, 0\\n0, 0, 0, 0, 0, 0, 0, 0, 0, 0, 0, 0, 0]'),\n",
              " Text(0.39732142857142855, 0.625, 'gini = 0.0\\nsamples = 11\\nvalue = [0, 11, 0, 0, 0, 0, 0, 0, 0, 0, 0, 0, 0, 0\\n0, 0, 0, 0, 0, 0, 0, 0, 0, 0, 0, 0, 0]'),\n",
              " Text(0.5736607142857143, 0.7083333333333334, 'x[3] <= 13.5\\ngini = 0.952\\nsamples = 213\\nvalue = [0, 0, 10, 8, 9, 9, 11, 10, 10, 12, 9, 12, 9\\n10, 13, 11, 10, 11, 11, 9, 9, 11, 9, 0, 0, 0\\n0]'),\n",
              " Text(0.46875, 0.625, 'x[3] <= 10.5\\ngini = 0.915\\nsamples = 119\\nvalue = [0, 0, 10, 8, 9, 9, 11, 10, 10, 12, 9, 12, 9\\n10, 0, 0, 0, 0, 0, 0, 0, 0, 0, 0, 0, 0, 0]'),\n",
              " Text(0.36607142857142855, 0.5416666666666666, 'x[2] <= 3213.5\\ngini = 0.887\\nsamples = 88\\nvalue = [0, 0, 10, 8, 9, 9, 11, 10, 10, 12, 9, 0, 0\\n0, 0, 0, 0, 0, 0, 0, 0, 0, 0, 0, 0, 0, 0]'),\n",
              " Text(0.26785714285714285, 0.4583333333333333, 'x[2] <= 3208.5\\ngini = 0.856\\nsamples = 66\\nvalue = [0, 0, 0, 8, 9, 9, 11, 10, 10, 0, 9, 0, 0, 0\\n0, 0, 0, 0, 0, 0, 0, 0, 0, 0, 0, 0, 0]'),\n",
              " Text(0.17857142857142858, 0.375, 'x[3] <= 6.0\\ngini = 0.799\\nsamples = 45\\nvalue = [0, 0, 0, 8, 9, 9, 0, 10, 0, 0, 9, 0, 0, 0\\n0, 0, 0, 0, 0, 0, 0, 0, 0, 0, 0, 0, 0]'),\n",
              " Text(0.10714285714285714, 0.2916666666666667, 'x[3] <= 4.5\\ngini = 0.666\\nsamples = 26\\nvalue = [0, 0, 0, 8, 9, 9, 0, 0, 0, 0, 0, 0, 0, 0\\n0, 0, 0, 0, 0, 0, 0, 0, 0, 0, 0, 0, 0]'),\n",
              " Text(0.07142857142857142, 0.20833333333333334, 'x[3] <= 3.5\\ngini = 0.498\\nsamples = 17\\nvalue = [0, 0, 0, 8, 9, 0, 0, 0, 0, 0, 0, 0, 0, 0\\n0, 0, 0, 0, 0, 0, 0, 0, 0, 0, 0, 0, 0]'),\n",
              " Text(0.03571428571428571, 0.125, 'gini = 0.0\\nsamples = 8\\nvalue = [0, 0, 0, 8, 0, 0, 0, 0, 0, 0, 0, 0, 0, 0\\n0, 0, 0, 0, 0, 0, 0, 0, 0, 0, 0, 0, 0]'),\n",
              " Text(0.10714285714285714, 0.125, 'gini = 0.0\\nsamples = 9\\nvalue = [0, 0, 0, 0, 9, 0, 0, 0, 0, 0, 0, 0, 0, 0\\n0, 0, 0, 0, 0, 0, 0, 0, 0, 0, 0, 0, 0]'),\n",
              " Text(0.14285714285714285, 0.20833333333333334, 'gini = 0.0\\nsamples = 9\\nvalue = [0, 0, 0, 0, 0, 9, 0, 0, 0, 0, 0, 0, 0, 0\\n0, 0, 0, 0, 0, 0, 0, 0, 0, 0, 0, 0, 0]'),\n",
              " Text(0.25, 0.2916666666666667, 'x[2] <= 3206.5\\ngini = 0.499\\nsamples = 19\\nvalue = [0, 0, 0, 0, 0, 0, 0, 10, 0, 0, 9, 0, 0, 0\\n0, 0, 0, 0, 0, 0, 0, 0, 0, 0, 0, 0, 0]'),\n",
              " Text(0.21428571428571427, 0.20833333333333334, 'gini = 0.0\\nsamples = 10\\nvalue = [0, 0, 0, 0, 0, 0, 0, 10, 0, 0, 0, 0, 0, 0\\n0, 0, 0, 0, 0, 0, 0, 0, 0, 0, 0, 0, 0]'),\n",
              " Text(0.2857142857142857, 0.20833333333333334, 'gini = 0.0\\nsamples = 9\\nvalue = [0, 0, 0, 0, 0, 0, 0, 0, 0, 0, 9, 0, 0, 0\\n0, 0, 0, 0, 0, 0, 0, 0, 0, 0, 0, 0, 0]'),\n",
              " Text(0.35714285714285715, 0.375, 'x[2] <= 3210.5\\ngini = 0.499\\nsamples = 21\\nvalue = [0, 0, 0, 0, 0, 0, 11, 0, 10, 0, 0, 0, 0, 0\\n0, 0, 0, 0, 0, 0, 0, 0, 0, 0, 0, 0, 0]'),\n",
              " Text(0.32142857142857145, 0.2916666666666667, 'gini = 0.0\\nsamples = 11\\nvalue = [0, 0, 0, 0, 0, 0, 11, 0, 0, 0, 0, 0, 0, 0\\n0, 0, 0, 0, 0, 0, 0, 0, 0, 0, 0, 0, 0]'),\n",
              " Text(0.39285714285714285, 0.2916666666666667, 'gini = 0.0\\nsamples = 10\\nvalue = [0, 0, 0, 0, 0, 0, 0, 0, 10, 0, 0, 0, 0, 0\\n0, 0, 0, 0, 0, 0, 0, 0, 0, 0, 0, 0, 0]'),\n",
              " Text(0.4642857142857143, 0.4583333333333333, 'x[2] <= 3215.5\\ngini = 0.496\\nsamples = 22\\nvalue = [0, 0, 10, 0, 0, 0, 0, 0, 0, 12, 0, 0, 0, 0\\n0, 0, 0, 0, 0, 0, 0, 0, 0, 0, 0, 0, 0]'),\n",
              " Text(0.42857142857142855, 0.375, 'gini = 0.0\\nsamples = 12\\nvalue = [0, 0, 0, 0, 0, 0, 0, 0, 0, 12, 0, 0, 0, 0\\n0, 0, 0, 0, 0, 0, 0, 0, 0, 0, 0, 0, 0]'),\n",
              " Text(0.5, 0.375, 'gini = 0.0\\nsamples = 10\\nvalue = [0, 0, 10, 0, 0, 0, 0, 0, 0, 0, 0, 0, 0, 0\\n0, 0, 0, 0, 0, 0, 0, 0, 0, 0, 0, 0, 0]'),\n",
              " Text(0.5714285714285714, 0.5416666666666666, 'x[3] <= 11.5\\ngini = 0.662\\nsamples = 31\\nvalue = [0, 0, 0, 0, 0, 0, 0, 0, 0, 0, 0, 12, 9, 10\\n0, 0, 0, 0, 0, 0, 0, 0, 0, 0, 0, 0, 0]'),\n",
              " Text(0.5357142857142857, 0.4583333333333333, 'gini = 0.0\\nsamples = 12\\nvalue = [0, 0, 0, 0, 0, 0, 0, 0, 0, 0, 0, 12, 0, 0\\n0, 0, 0, 0, 0, 0, 0, 0, 0, 0, 0, 0, 0]'),\n",
              " Text(0.6071428571428571, 0.4583333333333333, 'x[3] <= 12.5\\ngini = 0.499\\nsamples = 19\\nvalue = [0, 0, 0, 0, 0, 0, 0, 0, 0, 0, 0, 0, 9, 10\\n0, 0, 0, 0, 0, 0, 0, 0, 0, 0, 0, 0, 0]'),\n",
              " Text(0.5714285714285714, 0.375, 'gini = 0.0\\nsamples = 9\\nvalue = [0, 0, 0, 0, 0, 0, 0, 0, 0, 0, 0, 0, 9, 0\\n0, 0, 0, 0, 0, 0, 0, 0, 0, 0, 0, 0, 0]'),\n",
              " Text(0.6428571428571429, 0.375, 'gini = 0.0\\nsamples = 10\\nvalue = [0, 0, 0, 0, 0, 0, 0, 0, 0, 0, 0, 0, 0, 10\\n0, 0, 0, 0, 0, 0, 0, 0, 0, 0, 0, 0, 0]'),\n",
              " Text(0.6785714285714286, 0.625, 'x[3] <= 14.5\\ngini = 0.887\\nsamples = 94\\nvalue = [0, 0, 0, 0, 0, 0, 0, 0, 0, 0, 0, 0, 0, 0\\n13, 11, 10, 11, 11, 9, 9, 11, 9, 0, 0, 0, 0]'),\n",
              " Text(0.6428571428571429, 0.5416666666666666, 'gini = 0.0\\nsamples = 13\\nvalue = [0, 0, 0, 0, 0, 0, 0, 0, 0, 0, 0, 0, 0, 0\\n13, 0, 0, 0, 0, 0, 0, 0, 0, 0, 0, 0, 0]'),\n",
              " Text(0.7142857142857143, 0.5416666666666666, 'x[3] <= 15.5\\ngini = 0.874\\nsamples = 81\\nvalue = [0, 0, 0, 0, 0, 0, 0, 0, 0, 0, 0, 0, 0, 0\\n0, 11, 10, 11, 11, 9, 9, 11, 9, 0, 0, 0, 0]'),\n",
              " Text(0.6785714285714286, 0.4583333333333333, 'gini = 0.0\\nsamples = 11\\nvalue = [0, 0, 0, 0, 0, 0, 0, 0, 0, 0, 0, 0, 0, 0\\n0, 11, 0, 0, 0, 0, 0, 0, 0, 0, 0, 0, 0]'),\n",
              " Text(0.75, 0.4583333333333333, 'x[2] <= 3208.5\\ngini = 0.856\\nsamples = 70\\nvalue = [0, 0, 0, 0, 0, 0, 0, 0, 0, 0, 0, 0, 0, 0\\n0, 0, 10, 11, 11, 9, 9, 11, 9, 0, 0, 0, 0]'),\n",
              " Text(0.7142857142857143, 0.375, 'gini = 0.0\\nsamples = 11\\nvalue = [0, 0, 0, 0, 0, 0, 0, 0, 0, 0, 0, 0, 0, 0\\n0, 0, 0, 11, 0, 0, 0, 0, 0, 0, 0, 0, 0]'),\n",
              " Text(0.7857142857142857, 0.375, 'x[2] <= 3272.0\\ngini = 0.832\\nsamples = 59\\nvalue = [0, 0, 0, 0, 0, 0, 0, 0, 0, 0, 0, 0, 0, 0\\n0, 0, 10, 0, 11, 9, 9, 11, 9, 0, 0, 0, 0]'),\n",
              " Text(0.7142857142857143, 0.2916666666666667, 'x[3] <= 18.5\\ngini = 0.499\\nsamples = 21\\nvalue = [0, 0, 0, 0, 0, 0, 0, 0, 0, 0, 0, 0, 0, 0\\n0, 0, 10, 0, 0, 0, 0, 11, 0, 0, 0, 0, 0]'),\n",
              " Text(0.6785714285714286, 0.20833333333333334, 'gini = 0.0\\nsamples = 10\\nvalue = [0, 0, 0, 0, 0, 0, 0, 0, 0, 0, 0, 0, 0, 0\\n0, 0, 10, 0, 0, 0, 0, 0, 0, 0, 0, 0, 0]'),\n",
              " Text(0.75, 0.20833333333333334, 'gini = 0.0\\nsamples = 11\\nvalue = [0, 0, 0, 0, 0, 0, 0, 0, 0, 0, 0, 0, 0, 0\\n0, 0, 0, 0, 0, 0, 0, 11, 0, 0, 0, 0, 0]'),\n",
              " Text(0.8571428571428571, 0.2916666666666667, 'x[3] <= 18.5\\ngini = 0.748\\nsamples = 38\\nvalue = [0, 0, 0, 0, 0, 0, 0, 0, 0, 0, 0, 0, 0, 0\\n0, 0, 0, 0, 11, 9, 9, 0, 9, 0, 0, 0, 0]'),\n",
              " Text(0.8214285714285714, 0.20833333333333334, 'gini = 0.0\\nsamples = 11\\nvalue = [0, 0, 0, 0, 0, 0, 0, 0, 0, 0, 0, 0, 0, 0\\n0, 0, 0, 0, 11, 0, 0, 0, 0, 0, 0, 0, 0]'),\n",
              " Text(0.8928571428571429, 0.20833333333333334, 'x[2] <= 3276.0\\ngini = 0.667\\nsamples = 27\\nvalue = [0, 0, 0, 0, 0, 0, 0, 0, 0, 0, 0, 0, 0, 0\\n0, 0, 0, 0, 0, 9, 9, 0, 9, 0, 0, 0, 0]'),\n",
              " Text(0.8571428571428571, 0.125, 'gini = 0.0\\nsamples = 9\\nvalue = [0, 0, 0, 0, 0, 0, 0, 0, 0, 0, 0, 0, 0, 0\\n0, 0, 0, 0, 0, 0, 9, 0, 0, 0, 0, 0, 0]'),\n",
              " Text(0.9285714285714286, 0.125, 'x[2] <= 3278.0\\ngini = 0.5\\nsamples = 18\\nvalue = [0, 0, 0, 0, 0, 0, 0, 0, 0, 0, 0, 0, 0, 0\\n0, 0, 0, 0, 0, 9, 0, 0, 9, 0, 0, 0, 0]'),\n",
              " Text(0.8928571428571429, 0.041666666666666664, 'gini = 0.0\\nsamples = 9\\nvalue = [0, 0, 0, 0, 0, 0, 0, 0, 0, 0, 0, 0, 0, 0\\n0, 0, 0, 0, 0, 0, 0, 0, 9, 0, 0, 0, 0]'),\n",
              " Text(0.9642857142857143, 0.041666666666666664, 'gini = 0.0\\nsamples = 9\\nvalue = [0, 0, 0, 0, 0, 0, 0, 0, 0, 0, 0, 0, 0, 0\\n0, 0, 0, 0, 0, 9, 0, 0, 0, 0, 0, 0, 0]'),\n",
              " Text(0.8214285714285714, 0.7916666666666666, 'x[2] <= 3275.0\\ngini = 0.658\\nsamples = 35\\nvalue = [0, 0, 0, 0, 0, 0, 0, 0, 0, 0, 0, 0, 0, 0\\n0, 0, 0, 0, 0, 0, 0, 0, 0, 13, 13, 9, 0]'),\n",
              " Text(0.7857142857142857, 0.7083333333333334, 'x[3] <= 24.0\\ngini = 0.483\\nsamples = 22\\nvalue = [0, 0, 0, 0, 0, 0, 0, 0, 0, 0, 0, 0, 0, 0\\n0, 0, 0, 0, 0, 0, 0, 0, 0, 13, 0, 9, 0]'),\n",
              " Text(0.75, 0.625, 'gini = 0.0\\nsamples = 13\\nvalue = [0, 0, 0, 0, 0, 0, 0, 0, 0, 0, 0, 0, 0, 0\\n0, 0, 0, 0, 0, 0, 0, 0, 0, 13, 0, 0, 0]'),\n",
              " Text(0.8214285714285714, 0.625, 'gini = 0.0\\nsamples = 9\\nvalue = [0, 0, 0, 0, 0, 0, 0, 0, 0, 0, 0, 0, 0, 0\\n0, 0, 0, 0, 0, 0, 0, 0, 0, 0, 0, 9, 0]'),\n",
              " Text(0.8571428571428571, 0.7083333333333334, 'gini = 0.0\\nsamples = 13\\nvalue = [0, 0, 0, 0, 0, 0, 0, 0, 0, 0, 0, 0, 0, 0\\n0, 0, 0, 0, 0, 0, 0, 0, 0, 0, 13, 0, 0]'),\n",
              " Text(0.7159598214285714, 0.875, 'gini = 0.0\\nsamples = 13\\nvalue = [0, 0, 0, 0, 0, 0, 0, 0, 0, 0, 0, 0, 0, 0\\n0, 0, 0, 0, 0, 0, 0, 0, 0, 0, 0, 0, 13]')]"
            ]
          },
          "execution_count": 30,
          "metadata": {},
          "output_type": "execute_result"
        },
        {
          "data": {
            "image/png": "[encoded data removed]",
            "text/plain": [
              "<Figure size 500x500 with 1 Axes>"
            ]
          },
          "metadata": {},
          "output_type": "display_data"
        }
      ],
      "source": [
        "plt.figure(figsize=(5,5))\n",
        "tree.plot_tree(dt, filled=True)"
      ]
    }
  ],
  "metadata": {
    "colab": {
      "provenance": []
    },
    "kernelspec": {
      "display_name": "Python 3",
      "name": "python3"
    },
    "language_info": {
      "name": "python"
    }
  },
  "nbformat": 4,
  "nbformat_minor": 0
}
